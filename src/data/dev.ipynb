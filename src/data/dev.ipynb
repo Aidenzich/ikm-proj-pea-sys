{
 "cells": [
  {
   "cell_type": "code",
   "execution_count": 4,
   "metadata": {},
   "outputs": [
    {
     "name": "stdout",
     "output_type": "stream",
     "text": [
      "{'0': {'name': '改動類別3', 'sort': 3}, '1': {'name': '改動類別2', 'sort': 2}, '2': {'name': '改動類別1', 'sort': 1}}\n"
     ]
    }
   ],
   "source": [
    "import json\n",
    "\n",
    "\n",
    "with open(\"convert.json\", \"r\") as jf:\n",
    "    convert_dict = json.load(jf)\n",
    "\n",
    "print(convert_dict)"
   ]
  },
  {
   "cell_type": "code",
   "execution_count": 5,
   "metadata": {},
   "outputs": [
    {
     "name": "stdout",
     "output_type": "stream",
     "text": [
      "{'0': '改動類別3', '1': '改動類別2', '2': '改動類別1'}\n",
      "{'0': 3, '1': 2, '2': 1}\n"
     ]
    }
   ],
   "source": [
    "num2name = {}\n",
    "num_sort = {}\n",
    "\n",
    "for i in convert_dict:\n",
    "    num2name[i] = convert_dict[i]['name']\n",
    "    num_sort[i] = convert_dict[i]['sort']\n",
    "\n",
    "print(num2name)\n",
    "print(num_sort)"
   ]
  }
 ],
 "metadata": {
  "interpreter": {
   "hash": "aa781dd5d8b0b47d7fc97d3d29d31ddde4cdca0824a34701095d27847d24a55d"
  },
  "kernelspec": {
   "display_name": "Python 3.9.5 ('base')",
   "language": "python",
   "name": "python3"
  },
  "language_info": {
   "codemirror_mode": {
    "name": "ipython",
    "version": 3
   },
   "file_extension": ".py",
   "mimetype": "text/x-python",
   "name": "python",
   "nbconvert_exporter": "python",
   "pygments_lexer": "ipython3",
   "version": "3.9.5"
  },
  "orig_nbformat": 4
 },
 "nbformat": 4,
 "nbformat_minor": 2
}
